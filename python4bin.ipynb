{
 "cells": [
  {
   "cell_type": "markdown",
   "metadata": {},
   "source": [
    "# 文本和字节序列\n",
    "- 人类使用文本，计算机使用字节序列.\n",
    "- Python 3 明确区分了人类可读的文本字符串和原始的字节序列.\n",
    "- “字符串”是个相当简单的概念：一个字符串是一个字符序列.\n",
    "    - 在 2015 年，“字符”的最佳定义是 Unicode 字符.\n",
    "\n",
    "\n",
    "- 把字符的标识(码位)转换成字节序列的过程是编码；把字节序列转换成码位的过程是解码.\n",
    "    - 把字节序列想成计算机理解的晦涩难懂的密码，把Unicode 字符串想成人类可读的文本\n",
    "    - 那么把字节序列变成字符串就是解码(decode)\n",
    "    - 把字符串变成字节序列就是编码(encode)"
   ]
  },
  {
   "cell_type": "code",
   "execution_count": 2,
   "metadata": {},
   "outputs": [
    {
     "data": {
      "text/plain": [
       "4"
      ]
     },
     "execution_count": 2,
     "metadata": {},
     "output_type": "execute_result"
    }
   ],
   "source": [
    "s = 'café'\n",
    "len(s) # 'café' 字符串有4个Unicode字符."
   ]
  },
  {
   "cell_type": "code",
   "execution_count": 4,
   "metadata": {},
   "outputs": [
    {
     "data": {
      "text/plain": [
       "b'caf\\xc3\\xa9'"
      ]
     },
     "execution_count": 4,
     "metadata": {},
     "output_type": "execute_result"
    }
   ],
   "source": [
    "b = s.encode('utf8') # 使用UTF-8把str对象编码成bytes对象.\n",
    "b # bytes 字面量以b开头"
   ]
  },
  {
   "cell_type": "code",
   "execution_count": 5,
   "metadata": {},
   "outputs": [
    {
     "data": {
      "text/plain": [
       "5"
      ]
     },
     "execution_count": 5,
     "metadata": {},
     "output_type": "execute_result"
    }
   ],
   "source": [
    "len(b) # 字节序列b有5个字节（在UTF-8中，“é”的码位编码成两个字节）."
   ]
  },
  {
   "cell_type": "code",
   "execution_count": 6,
   "metadata": {},
   "outputs": [
    {
     "data": {
      "text/plain": [
       "'café'"
      ]
     },
     "execution_count": 6,
     "metadata": {},
     "output_type": "execute_result"
    }
   ],
   "source": [
    "b.decode('utf8') # 使用UTF-8把bytes对象解码成str对象"
   ]
  },
  {
   "cell_type": "markdown",
   "metadata": {},
   "source": [
    "* bytes对象的各个元素是介于 0~255（含）之间的整数."
   ]
  },
  {
   "cell_type": "code",
   "execution_count": 7,
   "metadata": {},
   "outputs": [
    {
     "data": {
      "text/plain": [
       "b'caf\\xc3\\xa9'"
      ]
     },
     "execution_count": 7,
     "metadata": {},
     "output_type": "execute_result"
    }
   ],
   "source": [
    "cafe = bytes('café', encoding='utf_8') # bytes 对象可以从 str 对象使用给定的编码构建.\n",
    "cafe"
   ]
  },
  {
   "cell_type": "code",
   "execution_count": 8,
   "metadata": {},
   "outputs": [
    {
     "data": {
      "text/plain": [
       "99"
      ]
     },
     "execution_count": 8,
     "metadata": {},
     "output_type": "execute_result"
    }
   ],
   "source": [
    "cafe[0] # 各个元素是 range(256) 内的整数."
   ]
  },
  {
   "cell_type": "code",
   "execution_count": 11,
   "metadata": {},
   "outputs": [
    {
     "data": {
      "text/plain": [
       "b'c'"
      ]
     },
     "execution_count": 11,
     "metadata": {},
     "output_type": "execute_result"
    }
   ],
   "source": [
    "cafe[:1] # bytes 对象的切片还是 bytes 对象，即使是只有一个字节的切片."
   ]
  },
  {
   "cell_type": "markdown",
   "metadata": {},
   "source": [
    "* 虽然二进制序列其实是整数序列，但是它们的字面量表示法表明其中有 ASCII 文本. 因此，各个字节的值可能会使用下面三种不同方式显示.                      \n",
    "    * 可打印的 ASCII 范围内的字节（从空格到 ~），使用 ASCII 字符本身.\n",
    "        * 标准ASCII码的码长是一个字节,共8位.\n",
    "    * 制表符、换行符、回车符和 \\ 对应的字节，使用转义序列 \\t、\\n、\\r 和 \\\\.\n",
    "    * 其他字节的值，使用十六进制转义序列（例如，\\x00 是空字节）.\n",
    "    * 因此，在示例 4-2 中，我们看到的是 b'caf\\xc3\\xa9'：前 3 个字节 b'caf' 在可打印的 ASCII 范围内，后两个字节则不然.\n",
    "    \n",
    "* *struct* 模块提供了一些函数，把打包的字节序列转换成不同类型字段组成的元组，还有一些函数用于执行反向转换，把元组转换成打包的字节序列.\n",
    "\n",
    "* 需要在多台设备中或多种场合下运行的代码，一定不能依赖默认编码。打开文件时始终应该明确传入 encoding= 参数，因为 不同的设备使用的默认编码可能不同.\n",
    "\n"
   ]
  },
  {
   "cell_type": "markdown",
   "metadata": {},
   "source": [
    "# struct模块\n",
    "* 计算机基础知识\n",
    "    * bit 0 or 1\n",
    "    * 1Byte=8bit \n",
    "* 把一个32位无符号整数变成字节， 也就是4个长度的bytes"
   ]
  },
  {
   "cell_type": "code",
   "execution_count": 30,
   "metadata": {},
   "outputs": [
    {
     "name": "stdout",
     "output_type": "stream",
     "text": [
      "b1: 0 | b2: 156 | b3: 64 | b4: 99 | chr(b1): 0x0| chr(b2): 0x9c | chr(b3): @ | chr(b4): c\n"
     ]
    },
    {
     "data": {
      "text/plain": [
       "b'\\x00\\x9c@c'"
      ]
     },
     "execution_count": 30,
     "metadata": {},
     "output_type": "execute_result"
    }
   ],
   "source": [
    "n = 10240099\n",
    "b1 = (n & 0xff000000) >> 24 \n",
    "b2 = (n & 0xff0000) >> 16\n",
    "b3 = (n & 0xff00) >> 8\n",
    "b4 = n & 0xff\n",
    "bs = bytes([b1, b2, b3, b4])\n",
    "print(\"b1: {} | b2: {} | b3: {} | b4: {} | chr(b1): {}| chr(b2): {} | chr(b3): {} | chr(b4): {}\".\n",
    "      format(b1, b2, b3, b4, hex(b1), hex(b2), chr(b3), chr(b4)))\n",
    "bs"
   ]
  },
  {
   "cell_type": "markdown",
   "metadata": {},
   "source": [
    "* Remark\n",
    "    * 与运算：n & 0xff000000 获取整型n最高字节,其余字节置0.\n",
    "    * 移位：>>24 向右位移24位,由0xff000000 变为 0x000000ff, 其他也是类似.\n",
    "    * b1, b2, b3, b4的值为0， 156， 64， 99\n",
    "    * 在字面量表示法中b1, b2为十六进制下的0x00, 0x9c, b3, b4转成ascii码中的@和c\n"
   ]
  },
  {
   "cell_type": "markdown",
   "metadata": {},
   "source": [
    "* struct的pack函数把任意数据类型变成bytes"
   ]
  },
  {
   "cell_type": "code",
   "execution_count": 33,
   "metadata": {},
   "outputs": [
    {
     "data": {
      "text/plain": [
       "b'\\x00\\x9c@c'"
      ]
     },
     "execution_count": 33,
     "metadata": {},
     "output_type": "execute_result"
    }
   ],
   "source": [
    "import struct\n",
    "struct.pack('>I', 10240099)"
   ]
  },
  {
   "cell_type": "markdown",
   "metadata": {},
   "source": [
    "* pack的第一个参数是处理指令，'>I'的意思是：\n",
    "    * ｀>｀表示字节顺序是大端（big-endian），｀I｀表示4字节无符号整数.\n",
    "    * 后面的参数个数要和处理指令一致.\n",
    "* unpack把bytes变成相应的数据类型"
   ]
  },
  {
   "cell_type": "code",
   "execution_count": 35,
   "metadata": {},
   "outputs": [
    {
     "data": {
      "text/plain": [
       "(4042322160, 32896)"
      ]
     },
     "execution_count": 35,
     "metadata": {},
     "output_type": "execute_result"
    }
   ],
   "source": [
    "# 根据>IH的说明，后面的bytes依次变为I：4字节无符号整数和H：2字节无符号整数\n",
    "struct.unpack('>IH', b'\\xf0\\xf0\\xf0\\xf0\\x80\\x80')\n",
    "(4042322160, 32896)"
   ]
  },
  {
   "cell_type": "markdown",
   "metadata": {},
   "source": [
    "* 与命名元组结合"
   ]
  },
  {
   "cell_type": "code",
   "execution_count": 40,
   "metadata": {},
   "outputs": [
    {
     "data": {
      "text/plain": [
       "Student(name=b'raymond   ', serialnum=4658, school=264, gradelevel=8)"
      ]
     },
     "execution_count": 40,
     "metadata": {},
     "output_type": "execute_result"
    }
   ],
   "source": [
    "from collections import namedtuple\n",
    "record = b'raymond   \\x32\\x12\\x08\\x01\\x08'\n",
    "Student = namedtuple('Student', 'name serialnum school gradelevel')\n",
    "Student._make(struct.unpack('<10sHHb', record))"
   ]
  },
  {
   "cell_type": "markdown",
   "metadata": {},
   "source": [
    "# 一个典型例子\n",
    "我们来讨论一个典型的读写二进制文件的例子，每一帧包括：帧头，实体，帧尾，不妨假定\n",
    "```\n",
    "HEAD＝0x17AB17CD\n",
    "TAIL＝0x19BA23DC\n",
    "struct entity {\n",
    "name char[20]  20B\n",
    "serialnum int  4B\n",
    "school int     4B\n",
    "gradelevel int 4B\n",
    "}\n",
    "```\n",
    "- HEAD TAIL采用大端\n",
    "- ENTITY采用小端"
   ]
  },
  {
   "cell_type": "markdown",
   "metadata": {},
   "source": [
    "# 生成模拟数据\n",
    "\n",
    "这里用到来Faker这个第三方来生成人的名字，需要用pip安装\n",
    "\n",
    "$ pip install Faker\n"
   ]
  },
  {
   "cell_type": "code",
   "execution_count": 103,
   "metadata": {},
   "outputs": [
    {
     "data": {
      "text/plain": [
       "[(b'Heather Harmon', 6520, 10, 2),\n",
       " (b'Sarah Campbell', 2835, 8, 4),\n",
       " (b'Rhonda Taylor', 7188, 5, 1),\n",
       " (b'Tammy Clarke', 8381, 6, 4),\n",
       " (b'Eric Adams', 2715, 3, 2),\n",
       " (b'Jeremy Sanchez', 9978, 10, 5),\n",
       " (b'Anthony Thompson', 3493, 8, 6),\n",
       " (b'Ronald Fox Jr.', 5894, 2, 6),\n",
       " (b'Douglas Munoz', 4828, 2, 6),\n",
       " (b'Jerry Simmons', 3174, 3, 4)]"
      ]
     },
     "execution_count": 103,
     "metadata": {},
     "output_type": "execute_result"
    }
   ],
   "source": [
    "import random\n",
    "from faker import Faker\n",
    "fake = Faker()\n",
    "record_num = 2000000\n",
    "record_list = [(fake.name()[:20].encode('utf-8'), \n",
    "                random.randint(1000, 9999), \n",
    "                random.randint(1, 10), \n",
    "                random.randint(1, 6))\n",
    "               for _ in range(record_num)]\n",
    "record_list[:10]"
   ]
  },
  {
   "cell_type": "markdown",
   "metadata": {},
   "source": [
    "# 写入二进制文件\n",
    "\n",
    "将数据写入data.bin中"
   ]
  },
  {
   "cell_type": "code",
   "execution_count": 104,
   "metadata": {},
   "outputs": [],
   "source": [
    "import struct\n",
    "import random\n",
    "HEAD = (0x17AB17CD).to_bytes(4, byteorder='big')\n",
    "TAIL = (0x19BA23DC).to_bytes(4, byteorder='big')\n",
    "HEAD_LEN = len(HEAD)\n",
    "TAIL_LEN = len(TAIL)\n",
    "ENTITY_LEN = 32\n",
    "\n",
    "ENTITY_FORMAT = struct.Struct('<20siii')\n",
    "\n",
    "data_list = []\n",
    "for record in record_list: \n",
    "    entity_bytes = ENTITY_FORMAT.pack(*record)\n",
    "    frame_bytes = b''.join([HEAD, entity_bytes, TAIL])\n",
    "    rand_num = random.random()\n",
    "    if rand_num > 0.5:\n",
    "        # add noise some time\n",
    "        data_list.append(b'noise')\n",
    "        \n",
    "    data_list.append(frame_bytes)\n",
    "    \n",
    "with open(\"data.bat\", \"wb\") as f:\n",
    "    f.write(b''.join(data_list))"
   ]
  },
  {
   "cell_type": "markdown",
   "metadata": {},
   "source": [
    "# 读取数据\n",
    "从二进制文件data.bat中读取并解析数据"
   ]
  },
  {
   "cell_type": "code",
   "execution_count": 110,
   "metadata": {},
   "outputs": [],
   "source": [
    "def do_with_record(*record):\n",
    "    pass\n",
    "\n",
    "def read(file_path):\n",
    "    with open(file_path, 'rb') as f:\n",
    "        f.seek(0, 2)\n",
    "        num_bytes = f.tell()\n",
    "\n",
    "        i = 0\n",
    "        record_list = []\n",
    "        while i < num_bytes:\n",
    "            f.seek(i)\n",
    "            head_bytes = f.read(HEAD_LEN)\n",
    "\n",
    "            if head_bytes == HEAD:\n",
    "                j = i + HEAD_LEN + ENTITY_LEN\n",
    "                f.seek(j)\n",
    "                tail_bytes = f.read(TAIL_LEN)\n",
    "                if tail_bytes == TAIL:\n",
    "                    f.seek(i + HEAD_LEN)\n",
    "                    entity = f.read(ENTITY_LEN)\n",
    "                    name, serialnum, school, gradelevel = ENTITY_FORMAT.unpack(entity)\n",
    "                    do_with_record(name, serialnum, school, gradelevel)\n",
    "                    i = j + TAIL_LEN\n",
    "                else:\n",
    "                    i += 1\n",
    "            else:\n",
    "                i += 1"
   ]
  },
  {
   "cell_type": "code",
   "execution_count": 111,
   "metadata": {},
   "outputs": [
    {
     "name": "stdout",
     "output_type": "stream",
     "text": [
      "6.8 s ± 244 ms per loop (mean ± std. dev. of 7 runs, 1 loop each)\n"
     ]
    }
   ],
   "source": [
    "%timeit read('data.bat')"
   ]
  },
  {
   "cell_type": "markdown",
   "metadata": {},
   "source": [
    "# 多进程解析\n",
    "思路是：按照cpu核心的数量，把文件平分，启动相应的子进程解析对应的文件块，并记录下该文件块中第一个同步头和最后一个同步尾的位置，最后主进程按照每个子进程记录的位置合并被切割点隔开的字节序列并解析。\n",
    "\n",
    "多进程中，每个进程都是独立的，各自持有一份数据，无法共享。有四种用于进程数据共享的方法\n",
    "- queues\n",
    "- Array\n",
    "- Manager.dict\n",
    "- pipe\n",
    "\n",
    "在这种场景下，看一下Manager.dict的用法"
   ]
  },
  {
   "cell_type": "code",
   "execution_count": 93,
   "metadata": {},
   "outputs": [
    {
     "name": "stdout",
     "output_type": "stream",
     "text": [
      "[100]\n",
      "[100, 101]\n",
      "[100, 101, 103]\n",
      "[100, 101, 103, 102]\n",
      "[100, 101, 103, 102, 104]\n",
      "{0: 100, 1: 101, 3: 103, 2: 102, 4: 104}\n"
     ]
    }
   ],
   "source": [
    "from multiprocessing import Process, Manager\n",
    "\n",
    "# 每个子进程执行的函数\n",
    "# 参数中，传递了一个用于多进程之间数据共享的特殊字典\n",
    "def func(i, d):\n",
    "    d[i] = i + 100\n",
    "    print(d.values())\n",
    "\n",
    "# 在主进程中创建特殊字典\n",
    "m = Manager()\n",
    "d = m.dict()\n",
    "\n",
    "for i in range(5):\n",
    "    # 让子进程去修改主进程的特殊字典\n",
    "    p = Process(target=func, args=(i, d))\n",
    "    p.start()\n",
    "p.join()\n",
    "print(d)"
   ]
  },
  {
   "cell_type": "code",
   "execution_count": 112,
   "metadata": {},
   "outputs": [],
   "source": [
    "\n",
    "import struct\n",
    "from multiprocessing import Process, Manager, cpu_count\n",
    "\n",
    "def read_basic(file_path, start, end):\n",
    "    i = start\n",
    "    \n",
    "    with open(file_path, 'rb') as f:\n",
    "        while i < end:\n",
    "            f.seek(i)\n",
    "            head_bytes = f.read(HEAD_LEN)\n",
    "\n",
    "            if head_bytes == HEAD:\n",
    "                j = i + HEAD_LEN + ENTITY_LEN\n",
    "                f.seek(j)\n",
    "                tail_bytes = f.read(TAIL_LEN)\n",
    "                if tail_bytes == TAIL:\n",
    "                    f.seek(i + HEAD_LEN)\n",
    "                    entity = f.read(ENTITY_LEN)\n",
    "                    name, serialnum, school, gradelevel = ENTITY_FORMAT.unpack(entity)\n",
    "                    do_with_record(name, serialnum, school, gradelevel)\n",
    "                    i = j + TAIL_LEN\n",
    "                else:\n",
    "                    i += 1\n",
    "            else:\n",
    "                i += 1\n",
    "\n",
    "\n",
    "def read_single(file_path, index, start, end, d):\n",
    "\n",
    "    with open(file_path, 'rb') as f:\n",
    "        first_head_start_pos = start\n",
    "        last_tail_end_pos = end\n",
    "\n",
    "        for i in range(start, end):\n",
    "            f.seek(i)\n",
    "            head_bytes = f.read(HEAD_LEN)\n",
    "            if head_bytes == HEAD:\n",
    "                first_head_start_pos = i\n",
    "                break\n",
    "\n",
    "        for i in range(end, start, -1):\n",
    "            f.seek(i)\n",
    "            tail_bytes = f.read(TAIL_LEN)\n",
    "            if tail_bytes == TAIL:\n",
    "                last_tail_end_pos = i + TAIL_LEN\n",
    "                break\n",
    "                \n",
    "        read_basic(file_path, first_head_start_pos, last_tail_end_pos)\n",
    "        d[index] = {\n",
    "                    'first_head_start_pos': first_head_start_pos,\n",
    "                    'last_tail_end_pos': last_tail_end_pos\n",
    "                   }\n",
    "\n",
    "\n",
    "def read_multi_process(file_path, process_num=None):\n",
    "    if process_num is None:\n",
    "        process_num = cpu_count()\n",
    "\n",
    "    m = Manager()\n",
    "    d = m.dict()\n",
    "    p_list = []\n",
    "\n",
    "    with open(file_path, 'rb') as f:\n",
    "        f.seek(0, 2)\n",
    "        num_bytes = f.tell()\n",
    "\n",
    "    part_num_bytes = num_bytes // process_num\n",
    "\n",
    "    seek_list = []\n",
    "    for i in range(process_num):\n",
    "        seek_list.append(i * part_num_bytes)\n",
    "\n",
    "    seek_list.append(num_bytes)\n",
    "\n",
    "    for i in range(process_num):\n",
    "        p = Process(target=read_single, args=(file_path, i, seek_list[i], seek_list[i+1], d))\n",
    "        p_list.append(p)\n",
    "\n",
    "    for p in p_list:\n",
    "        p.start()\n",
    "\n",
    "    for p in p_list:\n",
    "        p.join()\n",
    "\n",
    "    for i in range(process_num - 1):\n",
    "        start = d[i]['last_tail_end_pos']\n",
    "        end = d[i+1]['first_head_start_pos']\n",
    "        read_basic(file_path, start, end)"
   ]
  },
  {
   "cell_type": "code",
   "execution_count": 113,
   "metadata": {},
   "outputs": [
    {
     "name": "stdout",
     "output_type": "stream",
     "text": [
      "3.66 s ± 134 ms per loop (mean ± std. dev. of 7 runs, 1 loop each)\n"
     ]
    }
   ],
   "source": [
    "file_path = 'data.bat'\n",
    "%timeit read_multi_process(file_path, process_num=4)"
   ]
  },
  {
   "cell_type": "markdown",
   "metadata": {},
   "source": [
    "# 结果比较\n",
    "- 我的机器是2.7GHz i5的Mac pro 4核.\n",
    "- 生成2百万条数据，二进制文件大小85M.\n",
    "- 多进程版本用了3.66s， 不用多进程用了6.8s"
   ]
  },
  {
   "cell_type": "markdown",
   "metadata": {},
   "source": [
    "# 多进程解析II\n",
    "上面的平均切分然后合并被切割点隔开的字节序列有些繁琐了，不如在切分的时候就找同步头.\n",
    "\n",
    "考虑如下字符串，如果按照长度的一半分，正好把一个H2222T分开，\n",
    "\n",
    "'1111H2222T11H2222T1H2222T11H2222T1H2222T111'\n",
    "'1111H2222T11H2222T1H2'\n",
    "\n",
    "那么去找长度一半后的第一个H，可以避免这个问题."
   ]
  },
  {
   "cell_type": "code",
   "execution_count": 15,
   "metadata": {},
   "outputs": [
    {
     "name": "stdout",
     "output_type": "stream",
     "text": [
      "[27, 43]\n"
     ]
    }
   ],
   "source": [
    "l = '1111H2222T11H2222T1H2222T11H2222T1H2222T111'\n",
    "total_num = len(l)\n",
    "part_num = total_num // 2\n",
    "is_find_head = False\n",
    "i = 0\n",
    "\n",
    "split_point_list = []\n",
    "\n",
    "while i < total_num:\n",
    "    if l[i] == 'H' and i > part_num:\n",
    "        split_point_list.append(i)\n",
    "        part_num += part_num\n",
    "        \n",
    "    i += 1\n",
    "split_point_list.append(total_num)\n",
    "print(split_point_list)\n",
    "        \n",
    "    "
   ]
  },
  {
   "cell_type": "markdown",
   "metadata": {},
   "source": [
    "# 入库使用多进程\n",
    "在实践中发现，顺序解析二进制文件和解析好的数据入库相比，前者还是很快的，瓶颈主要在数据写入数据库，考虑仅入库使用多进程， 兼顾性能和简洁，用queue传递数据."
   ]
  }
 ],
 "metadata": {
  "kernelspec": {
   "display_name": "Python 3",
   "language": "python",
   "name": "python3"
  },
  "language_info": {
   "codemirror_mode": {
    "name": "ipython",
    "version": 3
   },
   "file_extension": ".py",
   "mimetype": "text/x-python",
   "name": "python",
   "nbconvert_exporter": "python",
   "pygments_lexer": "ipython3",
   "version": "3.6.4"
  }
 },
 "nbformat": 4,
 "nbformat_minor": 2
}
