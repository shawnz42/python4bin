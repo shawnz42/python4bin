{
 "cells": [
  {
   "cell_type": "markdown",
   "metadata": {},
   "source": [
    "# 文本和字节序列\n",
    "* 人类使用文本，计算机使用字节序列.\n",
    "* Python 3 明确区分了人类可读的文本字符串和原始的字节序列.\n",
    "* “字符串”是个相当简单的概念：一个字符串是一个字符序列.\n",
    "    * 在 2015 年，“字符”的最佳定义是 Unicode 字符.\n",
    "\n",
    "\n",
    "* 把字符的标识(码位)转换成字节序列的过程是编码；把字节序列转换成码位的过程是解码.\n",
    "    * 把字节序列想成计算机理解的晦涩难懂的密码，把Unicode 字符串想成人类可读的文本\n",
    "    * 那么把字节序列变成字符串就是解码（decode），把字符串变成字节序列就是编码(encode)"
   ]
  },
  {
   "cell_type": "code",
   "execution_count": 2,
   "metadata": {},
   "outputs": [
    {
     "data": {
      "text/plain": [
       "4"
      ]
     },
     "execution_count": 2,
     "metadata": {},
     "output_type": "execute_result"
    }
   ],
   "source": [
    "s = 'café'\n",
    "len(s) # 'café' 字符串有4个Unicode字符."
   ]
  },
  {
   "cell_type": "code",
   "execution_count": 4,
   "metadata": {},
   "outputs": [
    {
     "data": {
      "text/plain": [
       "b'caf\\xc3\\xa9'"
      ]
     },
     "execution_count": 4,
     "metadata": {},
     "output_type": "execute_result"
    }
   ],
   "source": [
    "b = s.encode('utf8') # 使用UTF-8把str对象编码成bytes对象.\n",
    "b # bytes 字面量以b开头"
   ]
  },
  {
   "cell_type": "code",
   "execution_count": 5,
   "metadata": {},
   "outputs": [
    {
     "data": {
      "text/plain": [
       "5"
      ]
     },
     "execution_count": 5,
     "metadata": {},
     "output_type": "execute_result"
    }
   ],
   "source": [
    "len(b) # 字节序列b有5个字节（在UTF-8中，“é”的码位编码成两个字节）."
   ]
  },
  {
   "cell_type": "code",
   "execution_count": 6,
   "metadata": {},
   "outputs": [
    {
     "data": {
      "text/plain": [
       "'café'"
      ]
     },
     "execution_count": 6,
     "metadata": {},
     "output_type": "execute_result"
    }
   ],
   "source": [
    "b.decode('utf8') # 使用UTF-8把bytes对象解码成str对象"
   ]
  },
  {
   "cell_type": "markdown",
   "metadata": {},
   "source": [
    "* bytes对象的各个元素是介于 0~255（含）之间的整数."
   ]
  },
  {
   "cell_type": "code",
   "execution_count": 7,
   "metadata": {},
   "outputs": [
    {
     "data": {
      "text/plain": [
       "b'caf\\xc3\\xa9'"
      ]
     },
     "execution_count": 7,
     "metadata": {},
     "output_type": "execute_result"
    }
   ],
   "source": [
    "cafe = bytes('café', encoding='utf_8') # bytes 对象可以从 str 对象使用给定的编码构建.\n",
    "cafe"
   ]
  },
  {
   "cell_type": "code",
   "execution_count": 8,
   "metadata": {},
   "outputs": [
    {
     "data": {
      "text/plain": [
       "99"
      ]
     },
     "execution_count": 8,
     "metadata": {},
     "output_type": "execute_result"
    }
   ],
   "source": [
    "cafe[0] # 各个元素是 range(256) 内的整数."
   ]
  },
  {
   "cell_type": "code",
   "execution_count": 11,
   "metadata": {},
   "outputs": [
    {
     "data": {
      "text/plain": [
       "b'c'"
      ]
     },
     "execution_count": 11,
     "metadata": {},
     "output_type": "execute_result"
    }
   ],
   "source": [
    "cafe[:1] # bytes 对象的切片还是 bytes 对象，即使是只有一个字节的切片."
   ]
  },
  {
   "cell_type": "markdown",
   "metadata": {},
   "source": [
    "* 虽然二进制序列其实是整数序列，但是它们的字面量表示法表明其中有 ASCII 文本. 因此，各个字节的值可能会使用下面三种不同方式显示.                      \n",
    "    * 可打印的 ASCII 范围内的字节（从空格到 ~），使用 ASCII 字符本身.\n",
    "        * 标准ASCII码的码长是一个字节,共8位.\n",
    "    * 制表符、换行符、回车符和 \\ 对应的字节，使用转义序列 \\t、\\n、\\r 和 \\\\.\n",
    "    * 其他字节的值，使用十六进制转义序列（例如，\\x00 是空字节）.\n",
    "    * 因此，在示例 4-2 中，我们看到的是 b'caf\\xc3\\xa9'：前 3 个字节 b'caf' 在可打印的 ASCII 范围内，后两个字节则不然.\n",
    "    \n",
    "* *struct* 模块提供了一些函数，把打包的字节序列转换成不同类型字段组成的元组，还有一些函数用于执行反向转换，把元组转换成打包的字节序列.\n",
    "\n",
    "* 需要在多台设备中或多种场合下运行的代码，一定不能依赖默认编码。打开文件时始终应该明确传入 encoding= 参数，因为 不同的设备使用的默认编码可能不同.\n",
    "\n"
   ]
  },
  {
   "cell_type": "markdown",
   "metadata": {},
   "source": [
    "# struct模块\n",
    "* 计算机基础知识\n",
    "    * bit 0 or 1\n",
    "    * 1Byte=8bit \n",
    "* 把一个32位无符号整数变成字节， 也就是4个长度的bytes"
   ]
  },
  {
   "cell_type": "code",
   "execution_count": 30,
   "metadata": {},
   "outputs": [
    {
     "name": "stdout",
     "output_type": "stream",
     "text": [
      "b1: 0 | b2: 156 | b3: 64 | b4: 99 | chr(b1): 0x0| chr(b2): 0x9c | chr(b3): @ | chr(b4): c\n"
     ]
    },
    {
     "data": {
      "text/plain": [
       "b'\\x00\\x9c@c'"
      ]
     },
     "execution_count": 30,
     "metadata": {},
     "output_type": "execute_result"
    }
   ],
   "source": [
    "n = 10240099\n",
    "b1 = (n & 0xff000000) >> 24 \n",
    "b2 = (n & 0xff0000) >> 16\n",
    "b3 = (n & 0xff00) >> 8\n",
    "b4 = n & 0xff\n",
    "bs = bytes([b1, b2, b3, b4])\n",
    "print(\"b1: {} | b2: {} | b3: {} | b4: {} | chr(b1): {}| chr(b2): {} | chr(b3): {} | chr(b4): {}\".\n",
    "      format(b1, b2, b3, b4, hex(b1), hex(b2), chr(b3), chr(b4)))\n",
    "bs"
   ]
  },
  {
   "cell_type": "markdown",
   "metadata": {},
   "source": [
    "* Remark\n",
    "    * 与运算：n & 0xff000000 获取整型n最高字节,其余字节置0.\n",
    "    * 移位：>>24 向右位移24位,由0xff000000 变为 0x000000ff, 其他也是类似.\n",
    "    * b1, b2, b3, b4的值为0， 156， 64， 99\n",
    "    * 在字面量表示法中b1, b2为十六进制下的0x00, 0x9c, b3, b4转成ascii码中的@和c\n"
   ]
  },
  {
   "cell_type": "markdown",
   "metadata": {},
   "source": [
    "* struct的pack函数把任意数据类型变成bytes"
   ]
  },
  {
   "cell_type": "code",
   "execution_count": 33,
   "metadata": {},
   "outputs": [
    {
     "data": {
      "text/plain": [
       "b'\\x00\\x9c@c'"
      ]
     },
     "execution_count": 33,
     "metadata": {},
     "output_type": "execute_result"
    }
   ],
   "source": [
    "import struct\n",
    "struct.pack('>I', 10240099)"
   ]
  },
  {
   "cell_type": "markdown",
   "metadata": {},
   "source": [
    "* pack的第一个参数是处理指令，'>I'的意思是：\n",
    "    * ｀>｀表示字节顺序是大端（big-endian），也就是网络序，｀I｀表示4字节无符号整数.\n",
    "    * 后面的参数个数要和处理指令一致.\n",
    "* unpack把bytes变成相应的数据类型"
   ]
  },
  {
   "cell_type": "code",
   "execution_count": 35,
   "metadata": {},
   "outputs": [
    {
     "data": {
      "text/plain": [
       "(4042322160, 32896)"
      ]
     },
     "execution_count": 35,
     "metadata": {},
     "output_type": "execute_result"
    }
   ],
   "source": [
    "# 根据>IH的说明，后面的bytes依次变为I：4字节无符号整数和H：2字节无符号整数\n",
    "struct.unpack('>IH', b'\\xf0\\xf0\\xf0\\xf0\\x80\\x80')\n",
    "(4042322160, 32896)"
   ]
  },
  {
   "cell_type": "markdown",
   "metadata": {},
   "source": [
    "* 与命名元组结合"
   ]
  },
  {
   "cell_type": "code",
   "execution_count": 40,
   "metadata": {},
   "outputs": [
    {
     "data": {
      "text/plain": [
       "Student(name=b'raymond   ', serialnum=4658, school=264, gradelevel=8)"
      ]
     },
     "execution_count": 40,
     "metadata": {},
     "output_type": "execute_result"
    }
   ],
   "source": [
    "from collections import namedtuple\n",
    "record = b'raymond   \\x32\\x12\\x08\\x01\\x08'\n",
    "Student = namedtuple('Student', 'name serialnum school gradelevel')\n",
    "Student._make(struct.unpack('<10sHHb', record))"
   ]
  },
  {
   "cell_type": "markdown",
   "metadata": {},
   "source": [
    "# 一个典型例子\n",
    "我们来讨论一个典型的读写二进制文件的例子，每一帧包括：帧头，实体，帧尾，不妨假定\n",
    "```\n",
    "HEAD＝0x17AB17CD\n",
    "TAIL＝0x19BA23DC\n",
    "struct entity {\n",
    "name char[20]  20B\n",
    "serialnum int  4B\n",
    "school int     4B\n",
    "gradelevel int 4B\n",
    "}\n",
    "```\n",
    "- HEAD TAIL采用大端\n",
    "- ENTITY采用小端"
   ]
  },
  {
   "cell_type": "markdown",
   "metadata": {},
   "source": [
    "# 生成模拟数据\n",
    "\n",
    "这里用到来Faker这个第三方来生成人的名字，需要用pip安装\n",
    "\n",
    "$ pip install Faker\n"
   ]
  },
  {
   "cell_type": "code",
   "execution_count": 3,
   "metadata": {},
   "outputs": [
    {
     "data": {
      "text/plain": [
       "[(b'Judy Haney MD', 3928, 8, 1),\n",
       " (b'John Matthews', 2371, 7, 3),\n",
       " (b'Sarah Brown', 6215, 4, 1),\n",
       " (b'Laurie Raymond', 9564, 9, 3),\n",
       " (b'Dr. Rebecca Snyder', 5047, 2, 5),\n",
       " (b'Rebecca Carson', 1475, 9, 1),\n",
       " (b'Laura Martinez', 4226, 4, 5),\n",
       " (b'Kelly Jones', 4819, 8, 1),\n",
       " (b'Joseph Castro', 8314, 6, 3),\n",
       " (b'Rachel Lee', 6940, 3, 6)]"
      ]
     },
     "execution_count": 3,
     "metadata": {},
     "output_type": "execute_result"
    }
   ],
   "source": [
    "import random\n",
    "from faker import Faker\n",
    "fake = Faker()\n",
    "record_list = [(fake.name()[:20].encode('utf-8'), \n",
    "                random.randint(1000, 9999), \n",
    "                random.randint(1, 10), \n",
    "                random.randint(1, 6))\n",
    "               for _ in range(10)]\n",
    "record_list"
   ]
  },
  {
   "cell_type": "markdown",
   "metadata": {},
   "source": [
    "# 写入二进制文件\n",
    "\n",
    "将数据写入data.bin中"
   ]
  },
  {
   "cell_type": "code",
   "execution_count": 5,
   "metadata": {},
   "outputs": [],
   "source": [
    "import struct\n",
    "HEAD = (0x17AB17CD).to_bytes(4, byteorder='big')\n",
    "TAIL = (0x19BA23DC).to_bytes(4, byteorder='big')\n",
    "HEAD_LEN = len(HEAD)\n",
    "TAIL_LEN = len(TAIL)\n",
    "ENTITY_LEN = 32\n",
    "\n",
    "ENTITY_FORMAT = struct.Struct('<20siii')\n",
    "\n",
    "data_list = []\n",
    "for record in record_list: \n",
    "    entity_bytes = ENTITY_FORMAT.pack(*record)\n",
    "    frame_bytes = b''.join([HEAD, entity_bytes, TAIL])\n",
    "    data_list.append(frame_bytes)\n",
    "    \n",
    "with open(\"data.bat\", \"wb\") as f:\n",
    "    f.write(b''.join(data_list))"
   ]
  },
  {
   "cell_type": "markdown",
   "metadata": {},
   "source": [
    "# 读取数据\n",
    "从二进制文件data.bat中读取并解析数据"
   ]
  },
  {
   "cell_type": "code",
   "execution_count": 7,
   "metadata": {},
   "outputs": [
    {
     "name": "stdout",
     "output_type": "stream",
     "text": [
      "total bytes 400\n",
      "Judy Haney MD\u0000\u0000\u0000\u0000\u0000\u0000\u0000 3928 8 1\n",
      "John Matthews\u0000\u0000\u0000\u0000\u0000\u0000\u0000 2371 7 3\n",
      "Sarah Brown\u0000\u0000\u0000\u0000\u0000\u0000\u0000\u0000\u0000 6215 4 1\n",
      "Laurie Raymond\u0000\u0000\u0000\u0000\u0000\u0000 9564 9 3\n",
      "Dr. Rebecca Snyder\u0000\u0000 5047 2 5\n",
      "Rebecca Carson\u0000\u0000\u0000\u0000\u0000\u0000 1475 9 1\n",
      "Laura Martinez\u0000\u0000\u0000\u0000\u0000\u0000 4226 4 5\n",
      "Kelly Jones\u0000\u0000\u0000\u0000\u0000\u0000\u0000\u0000\u0000 4819 8 1\n",
      "Joseph Castro\u0000\u0000\u0000\u0000\u0000\u0000\u0000 8314 6 3\n",
      "Rachel Lee\u0000\u0000\u0000\u0000\u0000\u0000\u0000\u0000\u0000\u0000 6940 3 6\n"
     ]
    }
   ],
   "source": [
    "with open('data.bat', 'rb') as f:\n",
    "    f.seek(0, 2)\n",
    "    num_bytes = f.tell()\n",
    "    print(\"total bytes\", num_bytes)\n",
    "    \n",
    "    i = 0\n",
    "    while i < num_bytes:\n",
    "        f.seek(i)\n",
    "        head_bytes = f.read(HEAD_LEN)\n",
    "        \n",
    "        if head_bytes == HEAD:\n",
    "            j = i + HEAD_LEN + ENTITY_LEN\n",
    "            f.seek(j)\n",
    "            tail_bytes = f.read(TAIL_LEN)\n",
    "            if tail_bytes == TAIL:\n",
    "                f.seek(i + HEAD_LEN)\n",
    "                entity = f.read(ENTITY_LEN)\n",
    "                name, serialnum, school, gradelevel = ENTITY_FORMAT.unpack(entity)\n",
    "                print(name.decode('utf-8'), serialnum, school, gradelevel)\n",
    "                i = j + TAIL_LEN\n",
    "            else:\n",
    "                i += 1\n",
    "        else:\n",
    "            i += 1\n",
    "                \n",
    "        "
   ]
  },
  {
   "cell_type": "markdown",
   "metadata": {},
   "source": [
    "# 进阶 多进程解析"
   ]
  },
  {
   "cell_type": "code",
   "execution_count": null,
   "metadata": {},
   "outputs": [],
   "source": []
  }
 ],
 "metadata": {
  "kernelspec": {
   "display_name": "Python 3",
   "language": "python",
   "name": "python3"
  },
  "language_info": {
   "codemirror_mode": {
    "name": "ipython",
    "version": 3
   },
   "file_extension": ".py",
   "mimetype": "text/x-python",
   "name": "python",
   "nbconvert_exporter": "python",
   "pygments_lexer": "ipython3",
   "version": "3.6.4"
  }
 },
 "nbformat": 4,
 "nbformat_minor": 2
}
